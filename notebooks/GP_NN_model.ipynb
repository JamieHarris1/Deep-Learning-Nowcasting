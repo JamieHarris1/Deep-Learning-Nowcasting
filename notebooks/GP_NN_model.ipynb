{
 "cells": [
  {
   "cell_type": "code",
   "execution_count": 17,
   "id": "a53702b6",
   "metadata": {},
   "outputs": [],
   "source": [
    "from pathlib import Path\n",
    "import pandas as pd\n",
    "import numpy as np\n",
    "import matplotlib.pyplot as plt\n",
    "import arviz as az\n",
    "import numpy as np\n",
    "import pymc as pm\n",
    "\n",
    "\n",
    "def sampler_kwargs():\n",
    "    return dict(\n",
    "        nuts_sampler=\"nutpie\",\n",
    "        chains=2,\n",
    "        draws=300,\n",
    "        nuts_sampler_kwargs={\"backend\": \"jax\", \"gradient_backend\": \"jax\"},\n",
    "    )\n",
    "\n",
    "project_dir = Path.cwd().parent\n",
    "train_df = pd.read_csv(project_dir / \"data\" / \"model\" / \"training_data.csv\",\n",
    "    parse_dates=True,\n",
    "    date_format=\"%Y %b\",\n",
    "    index_col=0,\n",
    "    dtype={\"value\": float},\n",
    ")\n",
    "\n",
    "M = 30\n",
    "D = 20\n",
    "\n",
    "train_df['y'] = train_df.sum(axis=1)\n",
    "train_df.index = pd.to_datetime(train_df.index)\n",
    "train_df.index.freq = train_df.index.inferred_freq\n"
   ]
  },
  {
   "cell_type": "code",
   "execution_count": 25,
   "id": "99f0d711",
   "metadata": {},
   "outputs": [
    {
     "name": "stdout",
     "output_type": "stream",
     "text": [
      "(1998,)\n",
      "(1998, 20, 20)\n"
     ]
    }
   ],
   "source": [
    "N = len(train_df) - D + 1\n",
    "reporting_matrices = np.empty((N, D, D))\n",
    "\n",
    "def mask_matrix(matrix):\n",
    "        masked_matrix = matrix.copy()\n",
    "        for i in range(D):\n",
    "            for j in range(D):\n",
    "                if i + j > D - 1:\n",
    "                     masked_matrix[i, j] = 0\n",
    "        return  masked_matrix\n",
    "\n",
    "for i in range(N):\n",
    "    t = i + D\n",
    "    delay_matrix = train_df.copy().drop('y', axis=1)\n",
    "    delay_matrix = np.array(delay_matrix.iloc[t - D : t].values)\n",
    "    masked_delay_matrix = mask_matrix(delay_matrix)\n",
    "\n",
    "    reporting_matrices[i] = masked_delay_matrix\n",
    "\n",
    "y_all = train_df['y'][D-1:]\n",
    "print(y_all.shape)\n",
    "print(reporting_matrices.shape)"
   ]
  },
  {
   "cell_type": "code",
   "execution_count": 6,
   "id": "c5228c7d",
   "metadata": {},
   "outputs": [],
   "source": [
    "%config InlineBackend.figure_format = 'retina'\n",
    "\n",
    "RANDOM_SEED = 8998\n",
    "rng = np.random.default_rng(RANDOM_SEED)\n",
    "\n",
    "az.style.use(\"arviz-darkgrid\")"
   ]
  },
  {
   "cell_type": "code",
   "execution_count": null,
   "id": "b90eac81",
   "metadata": {},
   "outputs": [
    {
     "data": {
      "text/plain": [
       "Minibatch.0"
      ]
     },
     "execution_count": 19,
     "metadata": {},
     "output_type": "execute_result"
    }
   ],
   "source": [
    "# GP input standardised so same across all batches\n",
    "x = np.array(list(range(0,M))).reshape(-1,1)\n",
    "x_min = np.min(x)\n",
    "x_max = np.max(x)\n",
    "x_scaled = (x - x_min) / (x_max - x_min)\n",
    "\n",
    "x_new = np.array(list(range(M+1,M+D+1))).reshape(-1,1)\n",
    "x_new_scaled = (x_new - x_min) / (x_max - x_min)\n"
   ]
  },
  {
   "cell_type": "code",
   "execution_count": 33,
   "id": "311b2c97",
   "metadata": {},
   "outputs": [
    {
     "name": "stderr",
     "output_type": "stream",
     "text": [
      "/Users/jamieharris/Documents/GitHub/Imperial/Dengue-Nowcasting-Thesis/NowcastingVenv/lib/python3.12/site-packages/pymc/model/core.py:1247: UserWarning: total_size not provided for observed variable `y` that uses pm.Minibatch\n",
      "  warnings.warn(\n"
     ]
    },
    {
     "ename": "TypeError",
     "evalue": "Variables that depend on other nodes cannot be used for observed data.The data variable was: Cast{int32}.0",
     "output_type": "error",
     "traceback": [
      "\u001b[31m---------------------------------------------------------------------------\u001b[39m",
      "\u001b[31mTypeError\u001b[39m                                 Traceback (most recent call last)",
      "\u001b[36mCell\u001b[39m\u001b[36m \u001b[39m\u001b[32mIn[33]\u001b[39m\u001b[32m, line 57\u001b[39m\n\u001b[32m     54\u001b[39m log_lam = f + mu\n\u001b[32m     55\u001b[39m lam = pm.Deterministic(\u001b[33m\"\u001b[39m\u001b[33mlam\u001b[39m\u001b[33m\"\u001b[39m, pm.math.exp(log_lam))\n\u001b[32m---> \u001b[39m\u001b[32m57\u001b[39m y_ = \u001b[43mpm\u001b[49m\u001b[43m.\u001b[49m\u001b[43mPoisson\u001b[49m\u001b[43m(\u001b[49m\u001b[33;43m\"\u001b[39;49m\u001b[33;43my\u001b[39;49m\u001b[33;43m\"\u001b[39;49m\u001b[43m,\u001b[49m\u001b[43m \u001b[49m\u001b[43mmu\u001b[49m\u001b[43m=\u001b[49m\u001b[43mlam\u001b[49m\u001b[43m,\u001b[49m\u001b[43m \u001b[49m\u001b[43mobserved\u001b[49m\u001b[43m=\u001b[49m\u001b[43my_mb\u001b[49m\u001b[43m)\u001b[49m\n\u001b[32m     59\u001b[39m idata = pm.sample(**sampler_kwargs())\n",
      "\u001b[36mFile \u001b[39m\u001b[32m~/Documents/GitHub/Imperial/Dengue-Nowcasting-Thesis/NowcastingVenv/lib/python3.12/site-packages/pymc/distributions/distribution.py:636\u001b[39m, in \u001b[36mDiscrete.__new__\u001b[39m\u001b[34m(cls, name, *args, **kwargs)\u001b[39m\n\u001b[32m    633\u001b[39m \u001b[38;5;28;01mif\u001b[39;00m kwargs.get(\u001b[33m\"\u001b[39m\u001b[33mtransform\u001b[39m\u001b[33m\"\u001b[39m, \u001b[38;5;28;01mNone\u001b[39;00m):\n\u001b[32m    634\u001b[39m     \u001b[38;5;28;01mraise\u001b[39;00m \u001b[38;5;167;01mValueError\u001b[39;00m(\u001b[33m\"\u001b[39m\u001b[33mTransformations for discrete distributions\u001b[39m\u001b[33m\"\u001b[39m)\n\u001b[32m--> \u001b[39m\u001b[32m636\u001b[39m \u001b[38;5;28;01mreturn\u001b[39;00m \u001b[38;5;28;43msuper\u001b[39;49m\u001b[43m(\u001b[49m\u001b[43m)\u001b[49m\u001b[43m.\u001b[49m\u001b[34;43m__new__\u001b[39;49m\u001b[43m(\u001b[49m\u001b[38;5;28;43mcls\u001b[39;49m\u001b[43m,\u001b[49m\u001b[43m \u001b[49m\u001b[43mname\u001b[49m\u001b[43m,\u001b[49m\u001b[43m \u001b[49m\u001b[43m*\u001b[49m\u001b[43margs\u001b[49m\u001b[43m,\u001b[49m\u001b[43m \u001b[49m\u001b[43m*\u001b[49m\u001b[43m*\u001b[49m\u001b[43mkwargs\u001b[49m\u001b[43m)\u001b[49m\n",
      "\u001b[36mFile \u001b[39m\u001b[32m~/Documents/GitHub/Imperial/Dengue-Nowcasting-Thesis/NowcastingVenv/lib/python3.12/site-packages/pymc/distributions/distribution.py:507\u001b[39m, in \u001b[36mDistribution.__new__\u001b[39m\u001b[34m(cls, name, rng, dims, initval, observed, total_size, transform, default_transform, *args, **kwargs)\u001b[39m\n\u001b[32m    503\u001b[39m         kwargs[\u001b[33m\"\u001b[39m\u001b[33mshape\u001b[39m\u001b[33m\"\u001b[39m] = \u001b[38;5;28mtuple\u001b[39m(observed.shape)\n\u001b[32m    505\u001b[39m rv_out = \u001b[38;5;28mcls\u001b[39m.dist(*args, **kwargs)\n\u001b[32m--> \u001b[39m\u001b[32m507\u001b[39m rv_out = \u001b[43mmodel\u001b[49m\u001b[43m.\u001b[49m\u001b[43mregister_rv\u001b[49m\u001b[43m(\u001b[49m\n\u001b[32m    508\u001b[39m \u001b[43m    \u001b[49m\u001b[43mrv_out\u001b[49m\u001b[43m,\u001b[49m\n\u001b[32m    509\u001b[39m \u001b[43m    \u001b[49m\u001b[43mname\u001b[49m\u001b[43m,\u001b[49m\n\u001b[32m    510\u001b[39m \u001b[43m    \u001b[49m\u001b[43mobserved\u001b[49m\u001b[43m=\u001b[49m\u001b[43mobserved\u001b[49m\u001b[43m,\u001b[49m\n\u001b[32m    511\u001b[39m \u001b[43m    \u001b[49m\u001b[43mtotal_size\u001b[49m\u001b[43m=\u001b[49m\u001b[43mtotal_size\u001b[49m\u001b[43m,\u001b[49m\n\u001b[32m    512\u001b[39m \u001b[43m    \u001b[49m\u001b[43mdims\u001b[49m\u001b[43m=\u001b[49m\u001b[43mdims\u001b[49m\u001b[43m,\u001b[49m\n\u001b[32m    513\u001b[39m \u001b[43m    \u001b[49m\u001b[43mtransform\u001b[49m\u001b[43m=\u001b[49m\u001b[43mtransform\u001b[49m\u001b[43m,\u001b[49m\n\u001b[32m    514\u001b[39m \u001b[43m    \u001b[49m\u001b[43mdefault_transform\u001b[49m\u001b[43m=\u001b[49m\u001b[43mdefault_transform\u001b[49m\u001b[43m,\u001b[49m\n\u001b[32m    515\u001b[39m \u001b[43m    \u001b[49m\u001b[43minitval\u001b[49m\u001b[43m=\u001b[49m\u001b[43minitval\u001b[49m\u001b[43m,\u001b[49m\n\u001b[32m    516\u001b[39m \u001b[43m\u001b[49m\u001b[43m)\u001b[49m\n\u001b[32m    518\u001b[39m \u001b[38;5;66;03m# add in pretty-printing support\u001b[39;00m\n\u001b[32m    519\u001b[39m rv_out.str_repr = types.MethodType(str_for_dist, rv_out)\n",
      "\u001b[36mFile \u001b[39m\u001b[32m~/Documents/GitHub/Imperial/Dengue-Nowcasting-Thesis/NowcastingVenv/lib/python3.12/site-packages/pymc/model/core.py:1252\u001b[39m, in \u001b[36mModel.register_rv\u001b[39m\u001b[34m(self, rv_var, name, observed, total_size, dims, default_transform, transform, initval)\u001b[39m\n\u001b[32m   1250\u001b[39m             \u001b[38;5;28;01mbreak\u001b[39;00m\n\u001b[32m   1251\u001b[39m \u001b[38;5;28;01mif\u001b[39;00m \u001b[38;5;129;01mnot\u001b[39;00m is_valid_observed(observed):\n\u001b[32m-> \u001b[39m\u001b[32m1252\u001b[39m     \u001b[38;5;28;01mraise\u001b[39;00m \u001b[38;5;167;01mTypeError\u001b[39;00m(\n\u001b[32m   1253\u001b[39m         \u001b[33m\"\u001b[39m\u001b[33mVariables that depend on other nodes cannot be used for observed data.\u001b[39m\u001b[33m\"\u001b[39m\n\u001b[32m   1254\u001b[39m         \u001b[33mf\u001b[39m\u001b[33m\"\u001b[39m\u001b[33mThe data variable was: \u001b[39m\u001b[38;5;132;01m{\u001b[39;00mobserved\u001b[38;5;132;01m}\u001b[39;00m\u001b[33m\"\u001b[39m\n\u001b[32m   1255\u001b[39m     )\n\u001b[32m   1257\u001b[39m \u001b[38;5;66;03m# `rv_var` is potentially changed by `make_obs_var`,\u001b[39;00m\n\u001b[32m   1258\u001b[39m \u001b[38;5;66;03m# for example into a new graph for imputation of missing data.\u001b[39;00m\n\u001b[32m   1259\u001b[39m rv_var = \u001b[38;5;28mself\u001b[39m.make_obs_var(\n\u001b[32m   1260\u001b[39m     rv_var, observed, dims, default_transform, transform, total_size\n\u001b[32m   1261\u001b[39m )\n",
      "\u001b[31mTypeError\u001b[39m: Variables that depend on other nodes cannot be used for observed data.The data variable was: Cast{int32}.0"
     ]
    }
   ],
   "source": [
    "def delay_adjustment_net(x):\n",
    "    # Assume x is shape (M, D, D)\n",
    "    x_flat = x.reshape((x.shape[0], -1)) # (M, D*D)\n",
    "    h1 = pm.math.tanh(pm.math.dot(x_flat, W1) + b1)\n",
    "    out = pm.math.dot(h1, W2) + b2  # shape (M,)\n",
    "\n",
    "    return out\n",
    "    \n",
    "# Pull in reporting matrix and correct num of cases label for training\n",
    "\n",
    "\n",
    "z_mb = pm.Minibatch(reporting_matrices, batch_size=M)\n",
    "y_mb = pm.Minibatch(y_all, batch_size=M)\n",
    "\n",
    "with pm.Model() as model:\n",
    "\n",
    "    # NN priors\n",
    "    # Layer 1\n",
    "    W1 = pm.Normal(\"W1\", mu=0, sigma=1, shape=(M, M))\n",
    "    b1 = pm.Normal(\"b1\", mu=0, sigma=1, shape=(M,))\n",
    "    \n",
    "\n",
    "    # Output layer\n",
    "    W2 = pm.Normal(\"W2\", mu=0, sigma=1, shape=(M,))\n",
    "    b2 = pm.Normal(\"b2\", mu=0, sigma=1)\n",
    "    \n",
    "\n",
    "    # Linear trend parameters\n",
    "    intercept = pm.Normal(\"intercept\", mu=0, sigma=10)\n",
    "    slope = pm.Normal(\"slope\", mu=0, sigma=5)\n",
    "\n",
    "    ell_trend = pm.Gamma(\"ell_trend\", alpha=5, beta=1)   # length scale\n",
    "    eta_trend = pm.HalfNormal(\"eta_trend\", sigma=5)      # amplitude\n",
    "    cov_trend = eta_trend**2 * pm.gp.cov.ExpQuad(1, ls=ell_trend)\n",
    "\n",
    "    mean_func = pm.gp.mean.Linear(coeffs=slope, intercept=intercept)\n",
    "\n",
    "    # Periodic kernel parameters\n",
    "    period = pm.Gamma(\"period\", alpha=2, beta=4)\n",
    "    ell_per = pm.Gamma(\"ell_per\", alpha=5, beta=5)   # length scale\n",
    "    eta_per = pm.HalfNormal(\"eta_per\", sigma=5)      # amplitude\n",
    "    cov_per = eta_per**2 * pm.gp.cov.Periodic(1, period=period, ls=ell_per)\n",
    "\n",
    "    sigma_noise = pm.HalfNormal(\"sigma_noise\", sigma=2)\n",
    "    cov_noise = pm.gp.cov.WhiteNoise(sigma_noise**2)\n",
    "\n",
    "    cov = cov_trend + cov_per + cov_noise\n",
    "\n",
    "    gp = pm.gp.Latent(mean_func=mean_func, cov_func=cov)\n",
    "\n",
    "    f = gp.prior(\"f\", X=x_scaled) # shape (M,)\n",
    "    mu = delay_adjustment_net(z_mb) # shape (M,)\n",
    "\n",
    "    log_lam = f + mu\n",
    "    lam = pm.Deterministic(\"lam\", pm.math.exp(log_lam))\n",
    "\n",
    "    y_ = pm.Poisson(\"y\", mu=lam, observed=y_mb)\n",
    "\n",
    "    idata = pm.sample(**sampler_kwargs())\n",
    " \n",
    "    "
   ]
  }
 ],
 "metadata": {
  "kernelspec": {
   "display_name": "NowcastingVenv",
   "language": "python",
   "name": "python3"
  },
  "language_info": {
   "codemirror_mode": {
    "name": "ipython",
    "version": 3
   },
   "file_extension": ".py",
   "mimetype": "text/x-python",
   "name": "python",
   "nbconvert_exporter": "python",
   "pygments_lexer": "ipython3",
   "version": "3.12.8"
  }
 },
 "nbformat": 4,
 "nbformat_minor": 5
}
