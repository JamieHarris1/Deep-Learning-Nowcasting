{
 "cells": [
  {
   "cell_type": "code",
   "execution_count": null,
   "id": "a53702b6",
   "metadata": {},
   "outputs": [],
   "source": [
    "from pathlib import Path\n",
    "import pandas as pd\n",
    "import numpy as np\n",
    "import matplotlib.pyplot as plt\n",
    "import arviz as az\n",
    "import numpy as np\n",
    "import pymc as pm\n",
    "\n",
    "def sampler_kwargs():\n",
    "    return dict(\n",
    "        nuts_sampler=\"nutpie\",\n",
    "        chains=2,\n",
    "        draws=300,\n",
    "        nuts_sampler_kwargs={\"backend\": \"jax\", \"gradient_backend\": \"jax\"},\n",
    "    )\n",
    "\n",
    "project_dir = Path.cwd().parent\n",
    "train_df = pd.read_csv(project_dir / \"data\" / \"model\" / \"training_data.csv\",\n",
    "    parse_dates=True,\n",
    "    date_format=\"%Y %b\",\n",
    "    index_col=0,\n",
    "    dtype={\"value\": float},\n",
    ")\n",
    "\n",
    "M = 30\n",
    "D = 20\n",
    "\n",
    "train_df['y'] = train_df.sum(axis=1)\n",
    "train_df.index = pd.to_datetime(train_df.index)\n",
    "train_df.index.freq = train_df.index.inferred_freq\n"
   ]
  },
  {
   "cell_type": "code",
   "execution_count": 3,
   "id": "99f0d711",
   "metadata": {},
   "outputs": [],
   "source": [
    "N = len(train_df) - D + 1\n",
    "reporting_matrices = np.empty((N, D, D))\n",
    "\n",
    "def mask_matrix(matrix):\n",
    "        masked_matrix = matrix.copy()\n",
    "        for i in range(D):\n",
    "            for j in range(D):\n",
    "                if i + j > D - 1:\n",
    "                     masked_matrix[i, j] = 0\n",
    "        return  masked_matrix\n",
    "\n",
    "for i in range(N):\n",
    "    t = i + D\n",
    "    delay_matrix = train_df.copy().drop('y', axis=1)\n",
    "    delay_matrix = np.array(delay_matrix.iloc[t - D : t].values)\n",
    "    masked_delay_matrix = mask_matrix(delay_matrix)\n",
    "\n",
    "    reporting_matrices[i] = masked_delay_matrix\n",
    "\n"
   ]
  }
 ],
 "metadata": {
  "kernelspec": {
   "display_name": "NowcastingVenv",
   "language": "python",
   "name": "python3"
  },
  "language_info": {
   "codemirror_mode": {
    "name": "ipython",
    "version": 3
   },
   "file_extension": ".py",
   "mimetype": "text/x-python",
   "name": "python",
   "nbconvert_exporter": "python",
   "pygments_lexer": "ipython3",
   "version": "3.12.8"
  }
 },
 "nbformat": 4,
 "nbformat_minor": 5
}
