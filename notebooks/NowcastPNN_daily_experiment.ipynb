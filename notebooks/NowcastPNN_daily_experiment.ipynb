{
 "cells": [
  {
   "cell_type": "code",
   "execution_count": 1,
   "id": "08cbf68e",
   "metadata": {},
   "outputs": [],
   "source": [
    "%load_ext autoreload\n",
    "%autoreload 3\n",
    "import sys\n",
    "import os\n",
    "sys.path.append(os.path.abspath('../src'))\n",
    "\n",
    "import yaml\n",
    "import torch\n",
    "from torch.utils.data import DataLoader\n",
    "import numpy as np\n",
    "import pandas as pd\n",
    "import random\n",
    "import os\n",
    "from sklearn.model_selection import train_test_split\n",
    "\n",
    "from data_utils import ReportingDataset\n",
    "from train_utils import SubsetSampler, SubsetRandomSampler\n",
    "\n",
    "torch.use_deterministic_algorithms(True)"
   ]
  },
  {
   "cell_type": "code",
   "execution_count": 2,
   "id": "b64bb5ed",
   "metadata": {},
   "outputs": [],
   "source": [
    "# Load config vars\n",
    "with open('../config.yaml', 'r') as f:\n",
    "    config = yaml.safe_load(f)\n",
    "\n",
    "SEED = config['training']['seed']\n",
    "BATCH_SIZE = config['training']['batch_size']\n",
    "PAST_UNITS = config['model']['past_units']\n",
    "MAX_DELAY = config['model']['max_delay']\n",
    "STATE = config['model']['state']\n",
    "DEVICE = config['training']['device']\n",
    "\n",
    "# Experiment vars\n",
    "weeks = False\n",
    "random_split = True\n",
    "dow = False"
   ]
  },
  {
   "cell_type": "code",
   "execution_count": 3,
   "id": "82219a45",
   "metadata": {},
   "outputs": [],
   "source": [
    "# Load Dengue Data\n",
    "path = \"../data/dengue-sp-reporting-delay.csv\"\n",
    "dengdf = pd.read_csv(path, index_col=0)\n",
    "dengdf = np.array(dengdf.values, dtype = np.float32)\n",
    "max_val = dengdf.max(axis = 1).max(axis=0)\n",
    "dataset = ReportingDataset(dengdf, max_val=max_val, triangle=True, past_units=PAST_UNITS, max_delay=MAX_DELAY, future_obs=0, vector_y = False, dow = dow, return_number_obs = 0)\n"
   ]
  },
  {
   "cell_type": "code",
   "execution_count": 4,
   "id": "a6ba71bd",
   "metadata": {},
   "outputs": [],
   "source": [
    "# Create train/test split using generator for reproducability\n",
    "all_idcs = range(dataset.__len__())\n",
    "train_idcs, test_idcs = train_test_split(all_idcs, test_size=0.25, shuffle=True, random_state=SEED)\n",
    "train_idcs, val_idcs = train_test_split(train_idcs, test_size=0.25, shuffle=True, random_state=SEED)\n",
    "val_batch_size, test_batch_size = len(val_idcs), len(test_idcs)\n",
    "\n",
    "g = torch.Generator()\n",
    "g.manual_seed(SEED)\n",
    "\n",
    "train_sampler = SubsetRandomSampler(train_idcs, generator=g)\n",
    "val_sampler = SubsetRandomSampler(val_idcs)\n",
    "test_sampler = SubsetSampler(test_idcs)\n",
    "\n",
    "train_loader = DataLoader(dataset, batch_size=BATCH_SIZE, sampler=train_sampler)\n",
    "val_loader = DataLoader(dataset, batch_size=val_batch_size, sampler=val_sampler, shuffle=False)\n",
    "test_loader = DataLoader(dataset, batch_size=test_batch_size, sampler=test_sampler, shuffle=False)\n"
   ]
  },
  {
   "cell_type": "code",
   "execution_count": 5,
   "id": "1e9d32a9",
   "metadata": {},
   "outputs": [],
   "source": [
    "def regen_data():\n",
    "    g = torch.Generator()\n",
    "    g.manual_seed(SEED)\n",
    "    global train_loader\n",
    "    train_loader = DataLoader(dataset, batch_size=BATCH_SIZE, sampler=SubsetRandomSampler(train_idcs, generator=g))\n",
    "\n",
    "def set_seeds(SEED):\n",
    "    torch.manual_seed(SEED)\n",
    "    np.random.seed(SEED)\n",
    "    os.environ[\"PYTHONHASHSEED\"] = str(SEED)\n",
    "    random.seed(SEED)\n",
    "    torch.cuda.manual_seed(SEED)\n",
    "    torch.backends.cudnn.deterministic = True\n",
    "\n",
    "set_seeds(SEED)"
   ]
  },
  {
   "cell_type": "code",
   "execution_count": 6,
   "id": "2907d7ee",
   "metadata": {},
   "outputs": [],
   "source": [
    "%reload_ext autoreload\n",
    "%autoreload 3\n",
    "from train_utils import train, EarlyStopper\n",
    "from NowcastPNN import NowcastPNN\n",
    "set_seeds(SEED) # reproducible training runs\n",
    "regen_data()"
   ]
  },
  {
   "cell_type": "code",
   "execution_count": null,
   "id": "f72e751d",
   "metadata": {},
   "outputs": [
    {
     "name": "stdout",
     "output_type": "stream",
     "text": [
      "Epoch 1 - Train loss: 2.49e+05 - Val loss: 1.88e+06 - ES count: 0\n",
      "Epoch 2 - Train loss: 2.42e+05 - Val loss: 1.81e+06 - ES count: 0\n",
      "Epoch 3 - Train loss: 2.38e+05 - Val loss: 1.82e+06 - ES count: 1\n",
      "Epoch 4 - Train loss: 2.33e+05 - Val loss: 1.74e+06 - ES count: 0\n"
     ]
    },
    {
     "name": "stderr",
     "output_type": "stream",
     "text": [
      "Exception ignored in: <bound method IPythonKernel._clean_thread_parent_frames of <ipykernel.ipkernel.IPythonKernel object at 0x106eb37d0>>\n",
      "Traceback (most recent call last):\n",
      "  File \"/Users/jamieharris/Documents/GitHub/Imperial/Dengue-Nowcasting-Thesis/DengeNowcastingVenv/lib/python3.12/site-packages/ipykernel/ipkernel.py\", line 775, in _clean_thread_parent_frames\n",
      "    def _clean_thread_parent_frames(\n",
      "\n",
      "KeyboardInterrupt: \n"
     ]
    },
    {
     "name": "stdout",
     "output_type": "stream",
     "text": [
      "Epoch 5 - Train loss: 2.29e+05 - Val loss: 1.71e+06 - ES count: 0\n",
      "Epoch 6 - Train loss: 2.25e+05 - Val loss: 1.73e+06 - ES count: 1\n",
      "Epoch 7 - Train loss: 2.21e+05 - Val loss: 1.7e+06 - ES count: 0\n",
      "Epoch 8 - Train loss: 2.18e+05 - Val loss: 1.59e+06 - ES count: 0\n",
      "Epoch 9 - Train loss: 2.13e+05 - Val loss: 1.69e+06 - ES count: 1\n"
     ]
    }
   ],
   "source": [
    "# Train model\n",
    "early_stopper = EarlyStopper(patience=30, past_units=PAST_UNITS, max_delay=MAX_DELAY, weeks=weeks, future_obs=0, random_split=random_split, dow = dow)\n",
    "nowcast_pnn = NowcastPNN(past_units=PAST_UNITS, max_delay=MAX_DELAY, conv_channels=[16, 1], hidden_units=[16, 8], dropout_probs=[0.3, 0.1])\n",
    "train(nowcast_pnn, num_epochs=200, train_loader=train_loader, val_loader=val_loader, early_stopper=early_stopper, loss_fct=\"nll\", device = DEVICE, dow = dow)\n",
    "\n",
    "# Load best set of weights on test/validation set\n",
    "nowcast_pnn.load_state_dict(torch.load(f\"../src/outputs/weights/weights-{PAST_UNITS}-{MAX_DELAY}-{'week' if weeks else 'day'}-fut0{'-rec' if not random_split else ''}{'-dow' if dow else ''}\"))\n",
    "\n"
   ]
  }
 ],
 "metadata": {
  "kernelspec": {
   "display_name": "DengeNowcastingVenv",
   "language": "python",
   "name": "python3"
  },
  "language_info": {
   "codemirror_mode": {
    "name": "ipython",
    "version": 3
   },
   "file_extension": ".py",
   "mimetype": "text/x-python",
   "name": "python",
   "nbconvert_exporter": "python",
   "pygments_lexer": "ipython3",
   "version": "3.12.8"
  }
 },
 "nbformat": 4,
 "nbformat_minor": 5
}
