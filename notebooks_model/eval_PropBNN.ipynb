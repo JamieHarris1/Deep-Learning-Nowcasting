{
 "cells": [
  {
   "cell_type": "code",
   "execution_count": 1,
   "id": "b4409423",
   "metadata": {},
   "outputs": [],
   "source": [
    "import pandas as pd\n",
    "import numpy as np\n",
    "from pathlib import Path\n",
    "import os\n",
    "import sys\n",
    "import torch\n",
    "from torch.utils.data import DataLoader, Dataset\n",
    "import pymc as pm\n",
    "from properscoring import crps_ensemble\n",
    "import random\n",
    "from patsy import dmatrix\n",
    "import arviz as az\n",
    "import matplotlib.pyplot as plt\n",
    "from scipy.stats import norm\n",
    "from scipy.stats import nbinom\n",
    "\n",
    "from joblib import Parallel, delayed\n",
    "from tqdm import tqdm\n",
    "\n",
    "sys.path.append(os.path.abspath('../src'))\n",
    "project_dir = Path.cwd().parent\n",
    "\n",
    "from data_tools.data_utils import SeroDataset, PartialCountDataset, TrueCountDataset\n",
    "from model_tools.train_utils import BaseTrain, SparsePropTrain, SeroTrain\n",
    "from model_tools.models import NowcastPNN, PropPNN, SparsePropPNN, SeroPNN\n",
    "from model_tools.evaluation import eval_pnn, eval_prop_pnn, eval_sparse_prop_pnn, eval_sero_pnn, plot_pnn_preds, plot_prop_pnn_preds, plot_sero_pnn_preds\n",
    "\n",
    "M = 50\n",
    "D = 40\n",
    "S = 500\n",
    "\n",
    "\n",
    "start_year = 2022\n",
    "end_year = 2022\n",
    "seed = 123\n",
    "\n",
    "# 123, 2019, 2023, 15\n",
    "\n",
    "def set_seed(seed=0):\n",
    "    random.seed(seed)\n",
    "    np.random.seed(seed)\n",
    "    torch.manual_seed(seed)\n",
    "    torch.cuda.manual_seed_all(seed)\n",
    "    torch.backends.cudnn.deterministic = True\n",
    "    torch.backends.cudnn.benchmark = False\n",
    "\n",
    "\n",
    "# Create count obj\n",
    "delays_df = pd.read_csv(project_dir / \"data\" / \"transformed\" / \"DENG_delays.csv\")\n",
    "delays_df['Collection date'] = pd.to_datetime(delays_df['Collection date'])\n",
    "\n",
    "partial_count_dataset = PartialCountDataset(delays_df, D=D, M=M, norm=False)\n",
    "true_count_dataset = TrueCountDataset(delays_df)\n",
    "\n",
    "class PropBNNDataset(Dataset):\n",
    "    def __init__(self, partial_count_obj, true_count_obj, dates):\n",
    "        self.partial_count_obj = partial_count_obj\n",
    "        self.true_count_obj = true_count_obj\n",
    "        self.dates = dates\n",
    "    \n",
    "    def __len__(self):\n",
    "        return len(self.dates)\n",
    "    \n",
    "    def __getitem__(self, index):\n",
    "        date = self.dates[index]\n",
    "        window_dates = [date - pd.Timedelta(days=i) for i in range(M)]\n",
    "        window_dates = sorted(window_dates)\n",
    "        Z_obs = self.partial_count_obj.get_obs(date)\n",
    "        y_true = [self.true_count_obj.get_y(day) for day in window_dates]\n",
    "        y_true = np.array(y_true).reshape(M)\n",
    "        dow = date.day_of_week\n",
    "        return Z_obs, y_true, window_dates\n",
    "\n",
    "set_seed(seed)\n",
    "\n",
    "# End of 2023 appears to have some incomplete data\n",
    "if end_year == 2023:\n",
    "    dates = list(pd.date_range(f\"{start_year}-01-01\",f\"{end_year}-12-25\", freq='D'))\n",
    "else:\n",
    "    dates = list(pd.date_range(f\"{start_year}-01-01\",f\"{end_year}-12-31\", freq='D'))\n",
    "\n",
    "T = len(dates)\n",
    "# T = 8\n",
    "    \n",
    "dataset = PropBNNDataset(partial_count_dataset, true_count_dataset, dates)\n",
    "\n",
    "\n",
    "def silu(x):\n",
    "    return x * pm.math.sigmoid(x)\n",
    "\n",
    "\n",
    "def sampler_kwargs():\n",
    "    return dict(\n",
    "        nuts_sampler=\"nutpie\",\n",
    "        cores=1,\n",
    "        init=\"adapt_diag\",\n",
    "        chains=1,\n",
    "        draws=S,\n",
    "        tune=500,\n",
    "        target_accept=0.95,\n",
    "        max_treedepth=10,\n",
    "        nuts_sampler_kwargs={\"backend\": \"jax\", \"gradient_backend\": \"jax\"}\n",
    "    )\n",
    "\n",
    "def get_mask(D):\n",
    "        mask_matrix = np.ones(shape=(D, D), dtype=bool)\n",
    "        for i in range(D):\n",
    "            for j in range(D):\n",
    "                if i + j > D - 1:\n",
    "                    mask_matrix[i, j] = False\n",
    "        return mask_matrix\n",
    "\n",
    "def create_fourier_features(t, n, p=10.0):\n",
    "    x = 2 * np.pi * (np.arange(n) + 1) * t[:, None] / p\n",
    "    return np.concatenate((np.cos(x), np.sin(x)), axis=1)\n"
   ]
  },
  {
   "cell_type": "code",
   "execution_count": 2,
   "id": "7ba89c8f",
   "metadata": {},
   "outputs": [],
   "source": [
    "# Constants\n",
    "t = np.arange(0, M)\n",
    "t_week = t % 7\n",
    "t_norm = t / M\n",
    "\n",
    "n = 14\n",
    "fourier_basis_biweek = create_fourier_features(t, n=n, p=3.5)\n",
    "fourier_basis_week = create_fourier_features(t, n=n, p=7)\n",
    "\n",
    "fourier_basis_biweek = fourier_basis_biweek - fourier_basis_biweek.mean(0, keepdims=True)\n",
    "fourier_basis_week = fourier_basis_week - fourier_basis_week.mean(0, keepdims=True)\n",
    "\n",
    "spline_trend = dmatrix(\n",
    "    \"bs(t, df=14, degree=3, include_intercept=False)\", {\"t\": t_norm}, return_type='dataframe'\n",
    ")\n",
    "X_trend = np.asarray(spline_trend)\n",
    "\n",
    "spline_week = dmatrix(\n",
    "    \"cc(t_week, df=7)\", {\"t_week\": t_week}, return_type='dataframe'\n",
    ")\n",
    "X_week = np.asarray(spline_week)\n",
    "\n",
    "t_input = np.arange(M)[:, None] / M\n",
    "time_input = np.concatenate([t_input, fourier_basis_biweek, fourier_basis_week], axis=1)\n",
    "\n",
    "mask = np.ones((M,D), dtype=bool)\n",
    "mask[-D:,:] = get_mask(D)\n",
    "\n",
    "\n"
   ]
  },
  {
   "cell_type": "code",
   "execution_count": 3,
   "id": "36f6ecb4",
   "metadata": {},
   "outputs": [],
   "source": [
    "def run_PropBNN(Z_obs, Z_norm):\n",
    "    with pm.Model() as PropBNN:\n",
    "        log_const = pm.Normal(\"const\", sigma=10)\n",
    "    \n",
    "\n",
    "        # Trend spline coefficients\n",
    "        sigma_trend = pm.HalfNormal(\"sigma_trend\", 10)\n",
    "        beta_trend = pm.Normal(\"beta_trend\", mu=0, sigma=sigma_trend, shape=X_trend.shape[1])\n",
    "        \n",
    "        # Cyclic spline coefficients (seasonality)\n",
    "        sigma_week = pm.HalfNormal(\"sigma_week\", 10)\n",
    "        beta_week = pm.Normal(\"beta_week\", mu=0, sigma=sigma_week, shape=X_week.shape[1])\n",
    "        \n",
    "        # GRW for prediction intervals\n",
    "        init_dist = pm.Normal.dist(mu=0, sigma=10)\n",
    "        sigma_rw = pm.HalfNormal(\"sigma_rw\", 3)\n",
    "        rw = pm.GaussianRandomWalk(\"log_lambda\", sigma=sigma_rw, shape=M, init_dist=init_dist)\n",
    "\n",
    "        # Create lam param \n",
    "        log_lam = pm.Deterministic(\n",
    "                \"log_lam\", rw + pm.math.dot(X_trend, beta_trend) + pm.math.dot(X_week, beta_week)\n",
    "            )\n",
    "        lam = pm.Deterministic(\"lam\", pm.math.exp(log_const + log_lam))\n",
    "\n",
    "        # NN for proportions from time inputs\n",
    "        n_hidden = 16\n",
    "        net_sd = 0.15\n",
    "        \n",
    "        W1 = pm.Normal(\"W1\", 0, net_sd, shape=(1+4*n, n_hidden))\n",
    "        b1 = pm.Normal(\"b1\", 0, net_sd, shape=(n_hidden,))\n",
    "        h1 = silu(pm.math.dot(time_input, W1) + b1)\n",
    "\n",
    "        Wz = pm.Normal(\"Wz\", 0, net_sd, shape=(D, n_hidden))\n",
    "        bz = pm.Normal(\"bz\", 0, net_sd, shape=(n_hidden,))\n",
    "        hz = silu(pm.math.dot(Z_norm, Wz) + bz)\n",
    "        h1 = hz + h1\n",
    "        \n",
    "        # ----- Output layer: hidden → delay bins -----\n",
    "        W2 = pm.Normal(\"W2\", 0, net_sd, shape=(n_hidden, D))\n",
    "        b2 = pm.Normal(\"b2\", 0, net_sd, shape=(D,))\n",
    "        p_raw = pm.math.dot(h1, W2) + b2 \n",
    "        p = pm.Deterministic(\"p\", pm.math.softmax(p_raw, axis=1))\n",
    "\n",
    "\n",
    "        # Make mu param per tim/delay point\n",
    "        log_mu = pm.math.log(lam[:, None]) + pm.math.log(p + 1e-6)\n",
    "        mu = pm.Deterministic(\"mu\", pm.math.exp(log_mu))\n",
    "\n",
    "        # Overdispersion per time point\n",
    "        sigma_theta = pm.HalfNormal(\"sigma_theta\", 3)\n",
    "        theta = pm.Exponential(\"theta\", lam=1/sigma_theta, shape=(M,1))\n",
    "        theta_broadcast = np.repeat(theta, D, axis=1)\n",
    "\n",
    "        # Observed data\n",
    "        z = pm.NegativeBinomial(\"z\", mu[mask], theta_broadcast[mask], observed=Z_obs[mask])\n",
    "        idata = pm.sample(progressbar=True, **sampler_kwargs())\n",
    "    return idata"
   ]
  },
  {
   "cell_type": "code",
   "execution_count": 4,
   "id": "32c257d9",
   "metadata": {},
   "outputs": [
    {
     "name": "stderr",
     "output_type": "stream",
     "text": [
      "  0%|          | 0/365 [00:00<?, ?it/s]"
     ]
    },
    {
     "name": "stderr",
     "output_type": "stream",
     "text": [
      "100%|██████████| 365/365 [2:27:06<00:00, 24.18s/it]  \n"
     ]
    }
   ],
   "source": [
    "def run_single(idx):\n",
    "    Z_obs, _, _ = dataset.__getitem__(idx)\n",
    "    Z_norm = Z_obs / (Z_obs.max() + 1e-6)\n",
    "    idata = run_PropBNN(Z_obs, Z_norm)\n",
    "    mu_samples = az.extract(idata, group='posterior')['mu']\n",
    "    theta_samples = az.extract(idata, group='posterior')['theta']\n",
    "    return mu_samples, theta_samples\n",
    "    \n",
    "\n",
    "mu_samples = np.zeros((T, M, D, S))\n",
    "theta_samples = np.zeros((T, M,1,S ))\n",
    "results = Parallel(n_jobs=4)(\n",
    "    delayed(run_single)(idx) for idx in tqdm(range(T))\n",
    ")\n"
   ]
  },
  {
   "cell_type": "code",
   "execution_count": 5,
   "id": "42ed8ad8",
   "metadata": {},
   "outputs": [],
   "source": [
    "for idx, (mu, theta) in enumerate(results):\n",
    "    mu_samples[idx, :, :, :] = mu\n",
    "    theta_samples[idx, :, :, :] = theta"
   ]
  },
  {
   "cell_type": "code",
   "execution_count": 6,
   "id": "843d191f",
   "metadata": {},
   "outputs": [],
   "source": [
    "np.savez_compressed(project_dir / \"src\" / \"outputs\" / \"PropBNN\" / 'mu_samples.npz',\n",
    "                    mu=mu_samples.reshape(mu_samples.shape[0], -1))\n",
    "\n",
    "np.savez_compressed(project_dir / \"src\" / \"outputs\" / \"PropBNN\" / 'theta_samples.npz',\n",
    "                    theta=theta_samples.reshape(theta_samples.shape[0], -1))"
   ]
  },
  {
   "cell_type": "code",
   "execution_count": 7,
   "id": "24c5c1fe",
   "metadata": {},
   "outputs": [],
   "source": [
    "# mu_samples = np.loadtxt(project_dir / \"src\" / \"outputs\" / \"PropBNN\" / 'mu_samples.npz', delimiter=\",\")\n",
    "# mu_samples = mu_samples.reshape((T, M, D, S))\n",
    "\n",
    "# theta_samples = np.loadtxt(project_dir / \"src\" / \"outputs\" / \"PropBNN\" / 'theta_samples.npz', delimiter=\",\")\n",
    "# theta_samples = theta_samples.reshape((T, M, 1, S))\n",
    "\n",
    "data = np.load(project_dir / \"src\" / \"outputs\" / \"PropBNN\" / \"mu_samples.npz\")\n",
    "mu_samples = data['mu'].reshape((T, M, D, S))\n",
    "\n",
    "data = np.load(project_dir / \"src\" / \"outputs\" / \"PropBNN\" / \"theta_samples.npz\")\n",
    "mtheta_samples = data['theta'].reshape((T, M, 1, S))"
   ]
  },
  {
   "cell_type": "code",
   "execution_count": 8,
   "id": "75ae34e5",
   "metadata": {},
   "outputs": [
    {
     "data": {
      "text/plain": [
       "(365, 50, 40, 500)"
      ]
     },
     "execution_count": 8,
     "metadata": {},
     "output_type": "execute_result"
    }
   ],
   "source": [
    "mu_samples.shape"
   ]
  },
  {
   "cell_type": "code",
   "execution_count": 9,
   "id": "2f34d8ee",
   "metadata": {},
   "outputs": [
    {
     "data": {
      "text/plain": [
       "(365, 50, 40, 500)"
      ]
     },
     "execution_count": 9,
     "metadata": {},
     "output_type": "execute_result"
    }
   ],
   "source": [
    "r = np.broadcast_to(theta_samples, mu_samples.shape)\n",
    "mu = mu_samples\n",
    "p = r / (r + mu)\n",
    "\n",
    "z_samples = np.random.negative_binomial(r, p, size=mu_samples.shape)\n",
    "z_samples.shape"
   ]
  },
  {
   "cell_type": "code",
   "execution_count": 10,
   "id": "7e566843",
   "metadata": {},
   "outputs": [
    {
     "data": {
      "text/plain": [
       "(365, 500)"
      ]
     },
     "execution_count": 10,
     "metadata": {},
     "output_type": "execute_result"
    }
   ],
   "source": [
    "y_pred = z_samples[:, -1, :, :].sum(1)\n",
    "y_pred.shape"
   ]
  },
  {
   "cell_type": "code",
   "execution_count": 11,
   "id": "63d05000",
   "metadata": {},
   "outputs": [
    {
     "data": {
      "image/png": "[encoded data removed]",
      "text/plain": [
       "<Figure size 640x480 with 1 Axes>"
      ]
     },
     "metadata": {},
     "output_type": "display_data"
    }
   ],
   "source": [
    "\n",
    "y_true = [dataset.__getitem__(idx)[1][-1] for idx in range(T)]\n",
    "window_dates = [dataset.__getitem__(idx)[2][-1] for idx in range(T)]\n",
    "\n",
    "y_pred_med = np.quantile(y_pred, 0.5, axis=1)\n",
    "y_pred_lower = np.quantile(y_pred, 0.025, axis=1)\n",
    "y_pred_upper = np.quantile(y_pred, 0.975, axis=1)\n",
    "\n",
    "plt.plot(window_dates, y_true, label='y')\n",
    "\n",
    "plt.plot(window_dates, y_pred_med, label='BNN', color='green')\n",
    "plt.fill_between(window_dates, y_pred_lower, y_pred_upper, color='green', alpha=0.2, label='BNN 95% CI')\n",
    "\n",
    "\n",
    "plt.legend()\n",
    "plt.tight_layout()\n",
    "plt.title(\"Number of Dengue Fever Cases in Sao Paulo, Brazil\")\n",
    "plt.xlabel(\"Date of First Symptom\")\n",
    "plt.ylabel(\"Case Count\")\n",
    "plt.xticks(rotation=45)\n",
    "plt.show()\n",
    "\n"
   ]
  },
  {
   "cell_type": "code",
   "execution_count": 12,
   "id": "279e118c",
   "metadata": {},
   "outputs": [],
   "source": [
    "def compute_pica(y_true, y_pred, alpha=0.05):\n",
    "\n",
    "    lower = np.quantile(y_pred, alpha / 2, axis=1)\n",
    "    upper = np.quantile(y_pred, 1 - alpha / 2, axis=1)\n",
    "    within_interval = (y_true >= lower) & (y_true <= upper)\n",
    "    empirical_coverage = np.mean(within_interval)\n",
    "    expected_coverage = 1 - alpha\n",
    "    return np.abs(empirical_coverage - expected_coverage)\n",
    "\n",
    "def nb_pmf(y, mu, theta):\n",
    "    # Convert mean/dispersion to n,p parameters\n",
    "    n = theta\n",
    "    p = theta / (theta + mu)\n",
    "    return nbinom.pmf(y, n, p)\n",
    "\n",
    "import numpy as np\n",
    "\n",
    "def nb_pmf(k, mu, theta):\n",
    "    # Negative Binomial PMF (mean mu, overdispersion theta)\n",
    "    from scipy.special import gammaln\n",
    "    r = theta\n",
    "    p = r / (r + mu)\n",
    "    return np.exp(\n",
    "        gammaln(k + r) - gammaln(r) - gammaln(k + 1) +\n",
    "        r * np.log(p) + k * np.log(1 - p)\n",
    "    )\n",
    "\n",
    "def compute_elpd(y_true, mu_samples, theta_samples):\n",
    "    # y_true: shape (T, D)\n",
    "    # mu_samples: shape (T, D, S)\n",
    "    # theta_samples: shape (T, S)\n",
    "    T, D, S = mu_samples.shape\n",
    "    elpd = 0.0\n",
    "\n",
    "    for i in range(T):\n",
    "        log_p_s = np.zeros(S)\n",
    "        for s in range(S):\n",
    "            # theta shared across D for time i, sample s\n",
    "            theta_is = theta_samples[i, s]\n",
    "\n",
    "            # compute log pmf for each d and sum\n",
    "            log_p_s[s] = np.sum(np.log(\n",
    "                nb_pmf(y_true[i], mu_samples[i, :, s], theta_is) + 1e-12\n",
    "            ))\n",
    "\n",
    "        max_log = np.max(log_p_s)\n",
    "        elpd += max_log + np.log(np.mean(np.exp(log_p_s - max_log)))  # log-sum-exp trick\n",
    "\n",
    "    return elpd\n",
    "\n",
    "\n",
    "\n"
   ]
  },
  {
   "cell_type": "code",
   "execution_count": 13,
   "id": "aa7ebba2",
   "metadata": {},
   "outputs": [],
   "source": [
    "mu = mu_samples[:, -1, :, :]\n",
    "theta = theta_samples[:, -1, 0, :]"
   ]
  },
  {
   "cell_type": "code",
   "execution_count": 14,
   "id": "f4f5e678",
   "metadata": {},
   "outputs": [
    {
     "data": {
      "text/plain": [
       "342.5372030684927"
      ]
     },
     "execution_count": 14,
     "metadata": {},
     "output_type": "execute_result"
    }
   ],
   "source": [
    "crps_ensemble(y_true, y_pred).mean()"
   ]
  },
  {
   "cell_type": "code",
   "execution_count": 15,
   "id": "9af0623f",
   "metadata": {},
   "outputs": [
    {
     "data": {
      "text/plain": [
       "-341454.60876625375"
      ]
     },
     "execution_count": 15,
     "metadata": {},
     "output_type": "execute_result"
    }
   ],
   "source": [
    "compute_elpd(y_true, mu, theta)"
   ]
  }
 ],
 "metadata": {
  "kernelspec": {
   "display_name": "NowcastingVenv",
   "language": "python",
   "name": "python3"
  },
  "language_info": {
   "codemirror_mode": {
    "name": "ipython",
    "version": 3
   },
   "file_extension": ".py",
   "mimetype": "text/x-python",
   "name": "python",
   "nbconvert_exporter": "python",
   "pygments_lexer": "ipython3",
   "version": "3.12.8"
  }
 },
 "nbformat": 4,
 "nbformat_minor": 5
}
