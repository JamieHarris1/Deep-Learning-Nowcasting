{
 "cells": [
  {
   "cell_type": "code",
   "execution_count": 1,
   "id": "4207c4b7",
   "metadata": {},
   "outputs": [],
   "source": [
    "import pandas as pd\n",
    "import numpy as np\n",
    "from pathlib import Path\n",
    "import os\n",
    "import sys\n",
    "import matplotlib.pyplot as plt\n",
    "from torch.utils.data import DataLoader, Dataset\n",
    "\n",
    "sys.path.append(os.path.abspath('../src'))\n",
    "project_dir = Path.cwd().parent\n"
   ]
  },
  {
   "cell_type": "code",
   "execution_count": 2,
   "id": "39ac1310",
   "metadata": {},
   "outputs": [],
   "source": [
    "sero_all = [\"DENV-1\", \"DENV-2\", \"DENV-3\", \"DENV-4\"]\n",
    "p_sero = np.array([0.4, 0.3, 0.2, 0.1])\n",
    "delays_df = pd.read_csv(project_dir / \"data\" / \"transformed\" / \"DENG_delays.csv\")\n",
    "\n",
    "delays_df = delays_df.set_index(\"Collection date\")\n",
    "delays_df.index = pd.to_datetime(delays_df.index)\n",
    "\n",
    "y_true = delays_df.sum(1)[:-2]\n",
    "y_true_df = y_true.groupby(y_true.index.to_period(\"M\")).sum()\n",
    "y_true = np.array(y_true_df)\n",
    "\n",
    "denv_df = pd.read_csv(project_dir / \"data\" / \"transformed\" / \"denv_df.csv\")\n",
    "\n",
    "denv_df = denv_df[denv_df['Delay'] < 60]\n",
    "\n"
   ]
  },
  {
   "cell_type": "code",
   "execution_count": 3,
   "id": "1c446a2a",
   "metadata": {},
   "outputs": [
    {
     "data": {
      "text/plain": [
       "array([0.00124127, 0.0189294 , 0.03827256, 0.04246186, 0.03847944,\n",
       "       0.03796224, 0.02741143, 0.02063615, 0.01960176, 0.02348073,\n",
       "       0.01913628, 0.01427463, 0.0160331 , 0.01649858, 0.0157745 ,\n",
       "       0.02203258, 0.03165244, 0.02192914, 0.02704939, 0.0223429 ,\n",
       "       0.01794673, 0.02751487, 0.01520559, 0.01013706, 0.01391259,\n",
       "       0.02963538, 0.03098009, 0.01784329, 0.01742953, 0.01815361,\n",
       "       0.01820533, 0.01225756, 0.01525731, 0.01417119, 0.01499871,\n",
       "       0.01530903, 0.01406775, 0.0194466 , 0.01417119, 0.00863719,\n",
       "       0.01184381, 0.006827  , 0.00713732, 0.0065684 , 0.00806827,\n",
       "       0.01773985, 0.00796483, 0.00755107, 0.00941298, 0.0063098 ,\n",
       "       0.02161883, 0.01453323, 0.00470649, 0.00491337, 0.00796483,\n",
       "       0.00739591, 0.00651668, 0.00884407, 0.00641324, 0.00718904])"
      ]
     },
     "execution_count": 3,
     "metadata": {},
     "output_type": "execute_result"
    }
   ],
   "source": [
    "# If your original denv_df dates are datetime\n",
    "denv_df['Collection date'] = pd.to_datetime(denv_df['Collection date'])\n",
    "\n",
    "start_month = pd.to_datetime(delays_df.index.min())\n",
    "end_month = pd.to_datetime(delays_df.index.max())\n",
    "\n",
    "# Create a DataFrame of month start dates as datetime (not Period)\n",
    "dates = pd.DataFrame({\n",
    "    \"Collection date\": pd.date_range(start=start_month, end=end_month, freq='MS')\n",
    "})\n",
    "\n",
    "df = denv_df[denv_df['Sero'] == \"DENV-1\"] \\\n",
    "    .groupby(['Sero', 'Collection date', 'Delay']) \\\n",
    "    .size() \\\n",
    "    .reset_index(name='count')\n",
    "\n",
    "df = df.pivot(index='Collection date', columns='Delay', values='count')\n",
    "\n",
    "# Ensure df.index is datetime as well\n",
    "df.index = pd.to_datetime(df.index)\n",
    "\n",
    "p_delay = np.array(df.fillna(0).mean(0) / df.fillna(0).mean(0).sum())\n",
    "p_delay"
   ]
  },
  {
   "cell_type": "code",
   "execution_count": 4,
   "id": "f789dac7",
   "metadata": {},
   "outputs": [
    {
     "name": "stdout",
     "output_type": "stream",
     "text": [
      "(4, 144, 60)\n"
     ]
    }
   ],
   "source": [
    "p_sero = p_sero[:, np.newaxis, np.newaxis]   # shape (S,1,1)\n",
    "y_true = y_true[np.newaxis, :, np.newaxis]  # shape (1,T,1)\n",
    "p_delay = p_delay[np.newaxis, np.newaxis, :]  # shape (1,1,D)\n",
    "\n",
    "# multiply to get (S,T,D)\n",
    "sero_tensor = p_sero * y_true * p_delay\n",
    "sero_tensor = sero_tensor.round()\n",
    "\n",
    "print(sero_tensor.shape)  # (3,4,3)"
   ]
  },
  {
   "cell_type": "code",
   "execution_count": 5,
   "id": "810584fd",
   "metadata": {},
   "outputs": [
    {
     "name": "stdout",
     "output_type": "stream",
     "text": [
      "Saving sero:  DENV-1\n",
      "Saving sero:  DENV-2\n",
      "Saving sero:  DENV-3\n",
      "Saving sero:  DENV-4\n"
     ]
    }
   ],
   "source": [
    "\n",
    "for s,sero in enumerate(sero_all):\n",
    "    sero_df = pd.DataFrame(sero_tensor[s, :, :])\n",
    "    sero_df.index = y_true_df.index\n",
    "    sero_df.to_csv(project_dir / \"data\" / \"model\" / \"sero_dfs\" / f\"{sero}.csv\", index=True)\n",
    "    print(\"Saving sero: \", sero)"
   ]
  },
  {
   "cell_type": "code",
   "execution_count": null,
   "id": "83a4f0c8",
   "metadata": {},
   "outputs": [],
   "source": []
  }
 ],
 "metadata": {
  "kernelspec": {
   "display_name": "NowcastingVenv",
   "language": "python",
   "name": "python3"
  },
  "language_info": {
   "codemirror_mode": {
    "name": "ipython",
    "version": 3
   },
   "file_extension": ".py",
   "mimetype": "text/x-python",
   "name": "python",
   "nbconvert_exporter": "python",
   "pygments_lexer": "ipython3",
   "version": "3.12.8"
  }
 },
 "nbformat": 4,
 "nbformat_minor": 5
}
