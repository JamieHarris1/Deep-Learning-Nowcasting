{
 "cells": [
  {
   "cell_type": "code",
   "execution_count": 1,
   "id": "b4409423",
   "metadata": {},
   "outputs": [],
   "source": [
    "import pandas as pd\n",
    "import numpy as np\n",
    "from pathlib import Path\n",
    "import os\n",
    "import sys\n",
    "import torch\n",
    "from torch.utils.data import DataLoader, Dataset\n",
    "import pymc as pm\n",
    "from properscoring import crps_ensemble\n",
    "import random\n",
    "import time\n",
    "from datetime import datetime\n",
    "from patsy import dmatrix\n",
    "import arviz as az\n",
    "import matplotlib.pyplot as plt\n",
    "import gc\n",
    "from sklearn.preprocessing import StandardScaler\n",
    "\n",
    "\n",
    "from joblib import Parallel, delayed, parallel_backend\n",
    "from tqdm import tqdm\n",
    "\n",
    "sys.path.append(os.path.abspath('../src'))\n",
    "project_dir = Path.cwd().parent\n",
    "\n",
    "\n",
    "from data_tools.data_utils import SeroDataset, PartialCountDataset, TrueCountDataset\n",
    "from model_tools.train_utils import BaseTrain, SparsePropTrain, SeroTrain\n",
    "from model_tools.models import NowcastPNN, PropPNN, SparsePropPNN, SeroPNN\n",
    "from model_tools.evaluation import eval_pnn, eval_prop_pnn, eval_sparse_prop_pnn, eval_sero_pnn, plot_pnn_preds, plot_prop_pnn_preds, plot_sero_pnn_preds\n",
    "from model_tools.NegativeBinomial import NegBin as NB\n",
    "\n",
    "M = 40\n",
    "D = 40\n",
    "N = 500\n",
    "chains = 1\n",
    "\n",
    "\n",
    "start_year = 2022\n",
    "end_year = 2022\n",
    "seed = 123\n",
    "\n",
    "# 123, 2019, 2023, 15\n",
    "\n",
    "def set_seed(seed=0):\n",
    "    random.seed(seed)\n",
    "    np.random.seed(seed)\n",
    "    torch.manual_seed(seed)\n",
    "    torch.cuda.manual_seed_all(seed)\n",
    "    torch.backends.cudnn.deterministic = True\n",
    "    torch.backends.cudnn.benchmark = False\n",
    "\n",
    "\n",
    "# Create count obj\n",
    "delays_df = pd.read_csv(project_dir / \"data\" / \"transformed\" / \"DENG_delays.csv\")\n",
    "delays_df['Collection date'] = pd.to_datetime(delays_df['Collection date'])\n",
    "\n",
    "partial_count_dataset = PartialCountDataset(delays_df, D=D, M=M, norm=False)\n",
    "true_count_dataset = TrueCountDataset(delays_df)\n",
    "\n",
    "class PropBNNDataset(Dataset):\n",
    "    def __init__(self, partial_count_obj, true_count_obj, dates):\n",
    "        self.partial_count_obj = partial_count_obj\n",
    "        self.true_count_obj = true_count_obj\n",
    "        self.dates = dates\n",
    "    \n",
    "    def __len__(self):\n",
    "        return len(self.dates)\n",
    "    \n",
    "    def __getitem__(self, index):\n",
    "        date = self.dates[index]\n",
    "        window_dates = [date - pd.Timedelta(days=i) for i in range(M)]\n",
    "        window_dates = sorted(window_dates)\n",
    "        Z_obs = self.partial_count_obj.get_obs(date)\n",
    "        y_true = [self.true_count_obj.get_y(day) for day in window_dates]\n",
    "        z_true = [self.true_count_obj.get_z(day) for day in window_dates]\n",
    "        y_true = np.array(y_true).reshape(M)\n",
    "        dow = date.day_of_week\n",
    "        return Z_obs, y_true, z_true, window_dates\n",
    "\n",
    "set_seed(seed)\n",
    "\n",
    "# End of 2023 appears to have some incomplete data\n",
    "if end_year == 2023:\n",
    "    dates = list(pd.date_range(f\"{start_year}-01-01\",f\"{end_year}-12-25\", freq='D'))\n",
    "else:\n",
    "    dates = list(pd.date_range(f\"{start_year}-01-01\",f\"{end_year}-12-31\", freq='D'))\n",
    "\n",
    "T = len(dates)\n",
    "# T = 50\n",
    "    \n",
    "dataset = PropBNNDataset(partial_count_dataset, true_count_dataset, dates)\n",
    "\n",
    "\n",
    "def silu(x):\n",
    "    return x * pm.math.sigmoid(x)\n",
    "\n",
    "\n",
    "def sampler_kwargs():\n",
    "    return dict(\n",
    "        nuts_sampler=\"nutpie\",\n",
    "        cores=1,\n",
    "        init=\"adapt_diag\",\n",
    "        chains=chains,\n",
    "        draws=N,\n",
    "        tune=500,\n",
    "        target_accept=0.9,\n",
    "        max_treedepth=10,\n",
    "        nuts_sampler_kwargs={\"backend\": \"jax\", \"gradient_backend\": \"jax\"}\n",
    "    )\n",
    "\n",
    "def get_mask(D):\n",
    "        mask_matrix = np.ones(shape=(D, D), dtype=bool)\n",
    "        for i in range(D):\n",
    "            for j in range(D):\n",
    "                if i + j > D - 1:\n",
    "                    mask_matrix[i, j] = False\n",
    "        return mask_matrix\n",
    "\n",
    "def create_fourier_features(t, n, p=10.0):\n",
    "    x = 2 * np.pi * (np.arange(n) + 1) * t[:, None] / p\n",
    "    return np.concatenate((np.cos(x), np.sin(x)), axis=1)\n"
   ]
  },
  {
   "cell_type": "code",
   "execution_count": 2,
   "id": "7ba89c8f",
   "metadata": {},
   "outputs": [],
   "source": [
    "# Constants\n",
    "t = np.arange(0, M)\n",
    "t_week = t % 14\n",
    "t_norm = t / M\n",
    "\n",
    "n = 14\n",
    "fourier_basis_biweek = create_fourier_features(t, n=n, p=3.5)\n",
    "fourier_basis_week = create_fourier_features(t, n=n, p=7)\n",
    "\n",
    "fourier_basis_biweek = fourier_basis_biweek - fourier_basis_biweek.mean(0, keepdims=True)\n",
    "fourier_basis_week = fourier_basis_week - fourier_basis_week.mean(0, keepdims=True)\n",
    "\n",
    "\n",
    "\n",
    "spline_week = dmatrix(\n",
    "    \"cc(t_week, df=7)\", {\"t_week\": t_week}, return_type='dataframe'\n",
    ")\n",
    "X_week = np.asarray(spline_week)\n",
    "\n",
    "spline_trend = dmatrix(\n",
    "    \"cc(t_norm, df=2)\", {\"t_norm\": t_norm}, return_type='dataframe'\n",
    ")\n",
    "X_trend = np.asarray(spline_trend)\n",
    "\n",
    "\n",
    "\n",
    "\n",
    "\n",
    "\n",
    "t_input = np.arange(M)[:, None] / M\n",
    "time_input = np.concatenate([t_input, fourier_basis_biweek, fourier_basis_week], axis=1)\n",
    "\n",
    "from sklearn.preprocessing import StandardScaler\n",
    "\n",
    "\n",
    "scaler_week = StandardScaler()\n",
    "X_week = scaler_week.fit_transform(X_week)\n",
    "\n",
    "\n",
    "\n",
    "\n",
    "\n",
    "\n",
    "\n",
    "mask = np.ones((M,D), dtype=bool)\n",
    "mask[-D:,:] = get_mask(D)\n",
    "\n",
    "\n"
   ]
  },
  {
   "cell_type": "code",
   "execution_count": 3,
   "id": "36f6ecb4",
   "metadata": {},
   "outputs": [],
   "source": [
    "def run_PropBNN(Z_obs, Z_norm, progress_bar):\n",
    "    \n",
    "    with pm.Model() as PropBNN:\n",
    "        const = pm.Normal(\"const\", mu=pm.math.log(Z_obs.mean()+1), sigma=0.3)\n",
    "        beta_linear = pm.Normal(\"beta_linear\", mu=0, sigma=0.1)\n",
    "\n",
    "        eps = pm.Normal(\"eps\", mu=0, sigma=1)\n",
    "\n",
    "        # Trend spline coefficients\n",
    "        sigma_trend = pm.HalfNormal(\"sigma_trend\", 0.3)\n",
    "        raw_trend = pm.Normal(\"raw_trend\", mu=0, sigma=1, shape=X_trend.shape[1])\n",
    "        beta_trend = pm.Deterministic(\"beta_rend\", raw_trend*sigma_trend)\n",
    "        trend_spline = pm.math.dot(X_trend, beta_trend)\n",
    "\n",
    "        # Trend spline coefficients\n",
    "        sigma_week = pm.HalfNormal(\"sigma_week\", 0.3)\n",
    "        raw_week = pm.Normal(\"raw_week\", mu=0, sigma=1, shape=X_week.shape[1])\n",
    "        beta_week = pm.Deterministic(\"beta_week\", raw_week*sigma_week)\n",
    "        week_spline = pm.math.dot(X_week, beta_week)\n",
    "\n",
    "\n",
    "        # Create lam param \n",
    "        log_lam = pm.Deterministic(\n",
    "                \"log_lam\",  const + trend_spline + week_spline + beta_linear * t_norm + eps\n",
    "            )\n",
    "\n",
    "        # NN for proportions from time inputs\n",
    "        n_hidden = 16\n",
    "        sigma_net = 0.15\n",
    "        \n",
    "        W1 = pm.Normal(\"W1\", 0, sigma_net, shape=(1+4*n, n_hidden))\n",
    "        b1 = pm.Normal(\"b1\", 0, sigma_net, shape=(n_hidden,))\n",
    "        h1 = silu(pm.math.dot(time_input, W1) + b1)\n",
    "\n",
    "        W2 = pm.Normal(\"W2\", 0, sigma_net, shape=(n_hidden, D))\n",
    "        b2 = pm.Normal(\"b2\", 0, sigma_net, shape=(D,))\n",
    "        p_raw = pm.math.dot(h1, W2) + b2\n",
    "        log_p = pm.math.log_softmax(p_raw, axis=1)\n",
    "\n",
    "\n",
    "        # Make mu param per tim/delay point\n",
    "        log_mu = log_lam[:, None] + log_p\n",
    "        mu = pm.Deterministic(\"mu\", pm.math.exp(log_mu))\n",
    "\n",
    "        # Overdispersion\n",
    "        theta = pm.Exponential(\"theta\", lam=1/(Z_obs.mean()+1))\n",
    "\n",
    "        # Observed data\n",
    "        z = pm.NegativeBinomial(\"z\", mu[mask], theta, observed=Z_obs[mask])\n",
    "\n",
    "        # Generated Quantities\n",
    "        p = pm.Deterministic(\"p\", pm.math.exp(log_p))\n",
    "        lam = pm.Deterministic(\"lam\", pm.math.exp(log_lam))\n",
    "\n",
    "        idata = pm.sample(progressbar=True, **sampler_kwargs())\n",
    "\n",
    "    return idata"
   ]
  },
  {
   "cell_type": "code",
   "execution_count": null,
   "id": "32c257d9",
   "metadata": {},
   "outputs": [
    {
     "name": "stderr",
     "output_type": "stream",
     "text": [
      " 37%|███▋      | 134/365 [35:13<1:32:35, 24.05s/it]"
     ]
    }
   ],
   "source": [
    "def run_single(idx):\n",
    "    save_path = f\"/Volumes/GLENN_SSD/V3/PropBNN_idata_{idx}.nc\"\n",
    "    n_retries = 5\n",
    "    for run in range(n_retries):\n",
    "        try:\n",
    "            Z_obs, _, _, _ = dataset.__getitem__(idx)\n",
    "            Z_norm = (Z_obs - Z_obs.mean()) / (Z_obs.std() + 1e-6)\n",
    "            idata = run_PropBNN(Z_obs, Z_norm, progress_bar=False)\n",
    "            idata = idata.posterior[['mu', 'theta']]\n",
    "            az.to_netcdf(idata, save_path)\n",
    "            del idata\n",
    "            gc.collect()\n",
    "            break\n",
    "        except Exception as e:\n",
    "            print(f\"Time point {idx} failed: {e}. Retrying...\")\n",
    "\n",
    "\n",
    "start = time.perf_counter()\n",
    "idx_range = range(T)\n",
    "with parallel_backend(\"loky\", idle_worker_timeout=300):\n",
    "    Parallel(n_jobs=2)(\n",
    "        delayed(run_single)(idx) for idx in tqdm(idx_range)\n",
    "    )\n",
    "Parallel(n_jobs=4)(\n",
    "    delayed(run_single)(idx) for idx in tqdm(idx_range)\n",
    ")\n",
    "\n",
    "end = time.perf_counter()\n",
    "\n",
    "print(f\"{T} predictions took {(end - start)/60:.4f} mins, avg of {(end - start)/len(idx_range):.4f} seconds per time point\")\n"
   ]
  },
  {
   "cell_type": "code",
   "execution_count": null,
   "id": "3717d714",
   "metadata": {},
   "outputs": [],
   "source": [
    "\n",
    "mu_samples = np.ones((T, D, chains*N))\n",
    "theta_samples = np.ones((T, D, chains*N))\n",
    "z_samples = np.zeros((T, D, chains*N))\n",
    "\n",
    "# for idx in range(T):\n",
    "for idx in range(128):\n",
    "    path = f\"/Volumes/GLENN_SSD/V3/PropBNN_idata_{idx}.nc\"\n",
    "    idata = az.from_netcdf(path)\n",
    "    mu = az.extract(idata, group='posterior')['mu'][-1, :, :]\n",
    "    theta = az.extract(idata, group='posterior')['theta']\n",
    "    \n",
    "    if len(theta.shape) == 1:\n",
    "        theta = np.expand_dims(theta, axis=0)\n",
    "    else:\n",
    "        theta = theta[-1, :, :]\n",
    "\n",
    "    theta = np.broadcast_to(theta, mu.shape)\n",
    "\n",
    "    p = theta / (theta + mu)\n",
    "    z = np.random.negative_binomial(theta, p, size=mu.shape)\n",
    "    \n",
    "    mu_samples[idx, :, :] = mu\n",
    "    theta_samples[idx, :, :] = theta\n",
    "    z_samples[idx, :, :] = z"
   ]
  },
  {
   "cell_type": "code",
   "execution_count": null,
   "id": "7e566843",
   "metadata": {},
   "outputs": [
    {
     "data": {
      "text/plain": [
       "(365, 500)"
      ]
     },
     "execution_count": 6,
     "metadata": {},
     "output_type": "execute_result"
    }
   ],
   "source": [
    "y_pred = z_samples.sum(1)\n",
    "y_pred.shape"
   ]
  },
  {
   "cell_type": "code",
   "execution_count": null,
   "id": "63d05000",
   "metadata": {},
   "outputs": [
    {
     "data": {
      "image/png": "[encoded data removed]",
      "text/plain": [
       "<Figure size 640x480 with 1 Axes>"
      ]
     },
     "metadata": {},
     "output_type": "display_data"
    }
   ],
   "source": [
    "\n",
    "y_true = [dataset.__getitem__(idx)[1][-1] for idx in range(T)]\n",
    "window_dates = [dataset.__getitem__(idx)[3][-1] for idx in range(T)]\n",
    "\n",
    "y_pred_med = np.quantile(y_pred, 0.5, axis=1)\n",
    "y_pred_lower = np.quantile(y_pred, 0.025, axis=1)\n",
    "y_pred_upper = np.quantile(y_pred, 0.975, axis=1)\n",
    "\n",
    "plt.plot(window_dates, y_true, label='y')\n",
    "\n",
    "plt.plot(window_dates, y_pred_med, label='BNN', color='green')\n",
    "plt.fill_between(window_dates, y_pred_lower, y_pred_upper, color='green', alpha=0.2, label='BNN 95% CI')\n",
    "\n",
    "\n",
    "plt.legend()\n",
    "plt.tight_layout()\n",
    "plt.title(\"Number of Dengue Fever Cases in Sao Paulo, Brazil\")\n",
    "plt.xlabel(\"Date of First Symptom\")\n",
    "plt.ylabel(\"Case Count\")\n",
    "plt.xticks(rotation=45)\n",
    "plt.show()\n",
    "\n"
   ]
  },
  {
   "cell_type": "code",
   "execution_count": null,
   "id": "f34fbfb6",
   "metadata": {},
   "outputs": [],
   "source": [
    "def compute_pica(y_true, y_pred, alpha=0.05):\n",
    "\n",
    "    lower = np.quantile(y_pred, alpha / 2, axis=1)\n",
    "    upper = np.quantile(y_pred, 1 - alpha / 2, axis=1)\n",
    "    within_interval = (y_true >= lower) & (y_true <= upper)\n",
    "    empirical_coverage = np.mean(within_interval)\n",
    "    expected_coverage = 1 - alpha\n",
    "    return np.abs(empirical_coverage - expected_coverage)"
   ]
  },
  {
   "cell_type": "code",
   "execution_count": null,
   "id": "6db871ca",
   "metadata": {},
   "outputs": [
    {
     "data": {
      "text/plain": [
       "(365, 40)"
      ]
     },
     "execution_count": 9,
     "metadata": {},
     "output_type": "execute_result"
    }
   ],
   "source": [
    "z_true = [dataset.__getitem__(i)[2] for i in range(T)]\n",
    "z_true = np.array(z_true)[:,-1, :]\n",
    "z_true.shape"
   ]
  },
  {
   "cell_type": "code",
   "execution_count": null,
   "id": "a90efbd5",
   "metadata": {},
   "outputs": [],
   "source": [
    "def log_sum_exp(x, axis=None):\n",
    "    m = np.max(x, axis=axis, keepdims=True)\n",
    "    return m + np.log(np.sum(np.exp(x - m), axis=axis, keepdims=True))\n",
    "\n",
    "\n",
    "loglik = np.zeros(shape=(N, T))\n",
    "for n in range(N):\n",
    "    dist_pred = NB(torch.tensor(mu_samples[:,:,n]), torch.tensor(theta_samples[:,:,n]))\n",
    "    log_prob = dist_pred.log_prob(torch.tensor(z_true)).sum(1)\n",
    "    loglik[n, :] = log_prob\n"
   ]
  },
  {
   "cell_type": "code",
   "execution_count": null,
   "id": "279e118c",
   "metadata": {},
   "outputs": [
    {
     "name": "stdout",
     "output_type": "stream",
     "text": [
      "PropBNN ELPD: -78.20132247045613\n"
     ]
    }
   ],
   "source": [
    "print(f\"PropBNN ELPD: {log_sum_exp(loglik, axis=1).mean()}\")"
   ]
  },
  {
   "cell_type": "code",
   "execution_count": null,
   "id": "f4f5e678",
   "metadata": {},
   "outputs": [
    {
     "data": {
      "text/plain": [
       "497.3266460493149"
      ]
     },
     "execution_count": 12,
     "metadata": {},
     "output_type": "execute_result"
    }
   ],
   "source": [
    "crps_ensemble(y_true, y_pred).mean()"
   ]
  },
  {
   "cell_type": "code",
   "execution_count": null,
   "id": "ead5cf0a",
   "metadata": {},
   "outputs": [
    {
     "data": {
      "text/plain": [
       "0.22123287671232872"
      ]
     },
     "execution_count": 13,
     "metadata": {},
     "output_type": "execute_result"
    }
   ],
   "source": [
    "compute_pica(y_true, y_pred, 0.05)"
   ]
  }
 ],
 "metadata": {
  "kernelspec": {
   "display_name": "NowcastingVenv",
   "language": "python",
   "name": "python3"
  },
  "language_info": {
   "codemirror_mode": {
    "name": "ipython",
    "version": 3
   },
   "file_extension": ".py",
   "mimetype": "text/x-python",
   "name": "python",
   "nbconvert_exporter": "python",
   "pygments_lexer": "ipython3",
   "version": "3.12.8"
  }
 },
 "nbformat": 4,
 "nbformat_minor": 5
}
